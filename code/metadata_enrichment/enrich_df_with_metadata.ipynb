{
 "cells": [
  {
   "cell_type": "code",
   "execution_count": null,
   "metadata": {},
   "outputs": [],
   "source": [
    "import pandas as pd\n",
    "from tqdm import tqdm\n",
    "from signal_metadata_extraction import MetadataExtractor"
   ]
  },
  {
   "cell_type": "code",
   "execution_count": null,
   "metadata": {},
   "outputs": [],
   "source": [
    "metadata_extractor = MetadataExtractor()"
   ]
  },
  {
   "cell_type": "code",
   "execution_count": null,
   "metadata": {},
   "outputs": [],
   "source": [
    "df_divExplorer = pd.read_csv('fearless_steps_apollo/ASR_track2_dev.csv')"
   ]
  },
  {
   "cell_type": "code",
   "execution_count": null,
   "metadata": {},
   "outputs": [],
   "source": [
    "metadatas = []\n",
    "audio_col = 'id'\n",
    "\n",
    "for i in tqdm(range(len(df_divExplorer))):\n",
    "\n",
    "    audio_id = df_divExplorer[audio_col].iloc[i]\n",
    "    audio_file = 'fearless_steps_apollo/FSC_P3_Train_Dev/Audio/Segments/ASR_track2/Dev/' + audio_id + '.wav'\n",
    "    signal_metadata = metadata_extractor.signal_metadata(audio_file)\n",
    "    \n",
    "    sentence = df_divExplorer['text'].iloc[i] \n",
    "    text_metadata = metadata_extractor.text_metadata(sentence)\n",
    "    mixed_metadata = metadata_extractor.mixed_metadata(signal_metadata, text_metadata)\n",
    "    metadatas.append(signal_metadata + text_metadata + mixed_metadata)"
   ]
  },
  {
   "cell_type": "code",
   "execution_count": null,
   "metadata": {},
   "outputs": [],
   "source": [
    "meta_cols = metadata_extractor.list_signal_metadata \\\n",
    "        + metadata_extractor.list_text_metadata \\\n",
    "        + metadata_extractor.list_sig_text_metadata\n",
    "df_divExplorer_metas = pd.concat([df_divExplorer, pd.DataFrame(metadatas, columns=meta_cols)], axis=1)\n",
    "\n",
    "print(\"Metadata columns: \", meta_cols)\n",
    "print(\"---\")\n",
    "print(\"Df for DivExplorer Columns: \", df_divExplorer_metas.columns)"
   ]
  },
  {
   "cell_type": "code",
   "execution_count": null,
   "metadata": {},
   "outputs": [],
   "source": [
    "snrs = []\n",
    "spectral_flatnesses = []\n",
    "audio_col = 'id'\n",
    "\n",
    "for i in tqdm(range(len(df_divExplorer_metas))):\n",
    "\n",
    "    audio_id = df_divExplorer[audio_col].iloc[i]\n",
    "    audio_file = 'fearless_steps_apollo/FSC_P3_Train_Dev/Audio/Segments/ASR_track2/Dev/' + audio_id + '.wav'\n",
    "\n",
    "    ## SNR\n",
    "    import librosa\n",
    "    signal, sr = librosa.load(audio_file, sr=8_000)\n",
    "    rms = librosa.feature.rms(y=signal)\n",
    "    snr = 10 * np.log10(np.mean(rms ** 2) / np.mean(signal ** 2))\n",
    "\n",
    "    ## Spectral Flatness\n",
    "    spectral_flatness = librosa.feature.spectral_flatness(y=signal)\n",
    "    spectral_flatness = 10 * np.log10(spectral_flatness)\n",
    "    spectral_flatness = np.mean(spectral_flatness)\n",
    "\n",
    "    snrs.append(snr)\n",
    "    spectral_flatnesses.append(spectral_flatness)"
   ]
  },
  {
   "cell_type": "code",
   "execution_count": null,
   "metadata": {},
   "outputs": [],
   "source": [
    "df_divExplorer_metas = pd.concat([df_divExplorer_metas, pd.DataFrame(snrs, columns=['snr'])], axis=1)\n",
    "df_divExplorer_metas = pd.concat([df_divExplorer_metas, pd.DataFrame(spectral_flatnesses, columns=['spectral_flatness'])], axis=1)"
   ]
  },
  {
   "cell_type": "code",
   "execution_count": null,
   "metadata": {},
   "outputs": [],
   "source": [
    "df_divExplorer_metas.to_csv('fearless_steps_apollo/ASR_track2_dev_metadata.csv', index=False)"
   ]
  }
 ],
 "metadata": {
  "kernelspec": {
   "display_name": "speech",
   "language": "python",
   "name": "python3"
  },
  "language_info": {
   "codemirror_mode": {
    "name": "ipython",
    "version": 3
   },
   "file_extension": ".py",
   "mimetype": "text/x-python",
   "name": "python",
   "nbconvert_exporter": "python",
   "pygments_lexer": "ipython3",
   "version": "3.11.5"
  },
  "orig_nbformat": 4,
  "vscode": {
   "interpreter": {
    "hash": "50f798c039f92e39594af06ec0119751541d975fa6ec3b2f5528645cd2e370ad"
   }
  }
 },
 "nbformat": 4,
 "nbformat_minor": 2
}
